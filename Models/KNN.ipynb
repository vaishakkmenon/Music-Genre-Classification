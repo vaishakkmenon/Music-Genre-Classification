{
 "cells": [
  {
   "cell_type": "code",
   "execution_count": 23,
   "metadata": {},
   "outputs": [],
   "source": [
    "import os\n",
    "import numpy as np\n",
    "import librosa\n",
    "import librosa.display\n",
    "import torch\n",
    "import matplotlib.pyplot as plt\n",
    "import pandas as pd\n",
    "from sklearn.preprocessing import StandardScaler\n",
    "from sklearn.model_selection import train_test_split\n",
    "from sklearn.neighbors import KNeighborsClassifier\n",
    "from sklearn.metrics import confusion_matrix\n",
    "from sklearn.metrics import classification_report"
   ]
  },
  {
   "cell_type": "code",
   "execution_count": 24,
   "metadata": {},
   "outputs": [],
   "source": [
    "dataset_path = \"../Data/features_30_sec.csv\"\n",
    "\n",
    "data = pd.read_csv(dataset_path)\n",
    "\n",
    "spectral_features = [\n",
    "    \"chroma_stft_mean\", \"chroma_stft_var\",\n",
    "    \"spectral_centroid_mean\", \"spectral_centroid_var\",\n",
    "    \"rolloff_mean\", \"rolloff_var\"\n",
    "]\n",
    "rhythmic_features = [\"tempo\"]\n",
    "mfcc_features = [\n",
    "    \"mfcc1_mean\", \"mfcc1_var\",\n",
    "    \"mfcc2_mean\", \"mfcc2_var\",\n",
    "    \"mfcc3_mean\", \"mfcc3_var\"\n",
    "]\n",
    "\n",
    "selected_features = spectral_features + rhythmic_features + mfcc_features\n",
    "\n",
    "X = data[selected_features]\n",
    "y = data[\"label\"]"
   ]
  },
  {
   "cell_type": "code",
   "execution_count": 25,
   "metadata": {},
   "outputs": [],
   "source": [
    "X_train, X_test, y_train, y_test = train_test_split(X, y, test_size=0.3, random_state=42, stratify=y)\n",
    "scaler = StandardScaler()\n",
    "X_train = scaler.fit_transform(X_train)\n",
    "X_test = scaler.fit_transform(X_test)"
   ]
  },
  {
   "cell_type": "code",
   "execution_count": 42,
   "metadata": {},
   "outputs": [
    {
     "name": "stdout",
     "output_type": "stream",
     "text": [
      "Score:  0.5366666666666666\n",
      "Confusion matrix:  [[15  0  4  4  0  1  1  0  3  2]\n",
      " [ 0 29  0  0  0  0  0  0  0  1]\n",
      " [ 4  2 17  3  0  3  0  0  0  1]\n",
      " [ 0  0  1 16  3  1  2  5  1  1]\n",
      " [ 0  0  1  7  8  0  3  6  4  1]\n",
      " [ 4  1  4  3  0 17  0  1  0  0]\n",
      " [ 2  0  1  5  0  0 20  0  0  2]\n",
      " [ 0  1  2  2  4  0  0 19  2  0]\n",
      " [ 3  0  1  3  6  0  0  1 15  1]\n",
      " [ 1  0  7  6  2  0  5  2  2  5]]\n",
      "Class report:                precision    recall  f1-score   support\n",
      "\n",
      "       blues       0.52      0.50      0.51        30\n",
      "   classical       0.88      0.97      0.92        30\n",
      "     country       0.45      0.57      0.50        30\n",
      "       disco       0.33      0.53      0.41        30\n",
      "      hiphop       0.35      0.27      0.30        30\n",
      "        jazz       0.77      0.57      0.65        30\n",
      "       metal       0.65      0.67      0.66        30\n",
      "         pop       0.56      0.63      0.59        30\n",
      "      reggae       0.56      0.50      0.53        30\n",
      "        rock       0.36      0.17      0.23        30\n",
      "\n",
      "    accuracy                           0.54       300\n",
      "   macro avg       0.54      0.54      0.53       300\n",
      "weighted avg       0.54      0.54      0.53       300\n",
      "\n"
     ]
    }
   ],
   "source": [
    "knn = KNeighborsClassifier(n_neighbors=14)\n",
    "knn.fit(X_train, y_train)\n",
    "y_pred = knn.predict(X_test)\n",
    "score = knn.score(X_test, y_test)\n",
    "conf_matrix = confusion_matrix(y_test, y_pred)\n",
    "class_report = classification_report(y_test, y_pred)\n",
    "print(\"Score: \", score)\n",
    "print(\"Confusion matrix: \", conf_matrix)\n",
    "print(\"Class report: \", class_report)"
   ]
  },
  {
   "cell_type": "markdown",
   "metadata": {},
   "source": []
  }
 ],
 "metadata": {
  "kernelspec": {
   "display_name": "base",
   "language": "python",
   "name": "python3"
  },
  "language_info": {
   "codemirror_mode": {
    "name": "ipython",
    "version": 3
   },
   "file_extension": ".py",
   "mimetype": "text/x-python",
   "name": "python",
   "nbconvert_exporter": "python",
   "pygments_lexer": "ipython3",
   "version": "3.12.4"
  }
 },
 "nbformat": 4,
 "nbformat_minor": 2
}
