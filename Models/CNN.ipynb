{
 "cells": [
  {
   "cell_type": "code",
   "execution_count": 1,
   "metadata": {},
   "outputs": [],
   "source": [
    "# %pip install numpy\n",
    "# %pip install matplotlib\n",
    "# %pip install torch"
   ]
  },
  {
   "cell_type": "code",
   "execution_count": 2,
   "metadata": {},
   "outputs": [
    {
     "ename": "ModuleNotFoundError",
     "evalue": "No module named 'librosa'",
     "output_type": "error",
     "traceback": [
      "\u001b[0;31m---------------------------------------------------------------------------\u001b[0m",
      "\u001b[0;31mModuleNotFoundError\u001b[0m                       Traceback (most recent call last)",
      "\u001b[0;32m/var/folders/hp/t2q12q0x7cq81k1xkfcwxpb40000gn/T/ipykernel_23715/2627589846.py\u001b[0m in \u001b[0;36m<module>\u001b[0;34m\u001b[0m\n\u001b[1;32m      3\u001b[0m \u001b[0;32mimport\u001b[0m \u001b[0mpandas\u001b[0m \u001b[0;32mas\u001b[0m \u001b[0mpd\u001b[0m\u001b[0;34m\u001b[0m\u001b[0;34m\u001b[0m\u001b[0m\n\u001b[1;32m      4\u001b[0m \u001b[0;34m\u001b[0m\u001b[0m\n\u001b[0;32m----> 5\u001b[0;31m \u001b[0;32mimport\u001b[0m \u001b[0mlibrosa\u001b[0m\u001b[0;34m\u001b[0m\u001b[0;34m\u001b[0m\u001b[0m\n\u001b[0m\u001b[1;32m      6\u001b[0m \u001b[0;32mimport\u001b[0m \u001b[0mlibrosa\u001b[0m\u001b[0;34m.\u001b[0m\u001b[0mdisplay\u001b[0m\u001b[0;34m\u001b[0m\u001b[0;34m\u001b[0m\u001b[0m\n\u001b[1;32m      7\u001b[0m \u001b[0;34m\u001b[0m\u001b[0m\n",
      "\u001b[0;31mModuleNotFoundError\u001b[0m: No module named 'librosa'"
     ]
    }
   ],
   "source": [
    "import os\n",
    "import numpy as np\n",
    "import pandas as pd\n",
    "\n",
    "import librosa\n",
    "import librosa.display\n",
    "\n",
    "import torch\n",
    "\n",
    "from sklearn.model_selection import train_test_split"
   ]
  },
  {
   "cell_type": "code",
   "execution_count": null,
   "metadata": {},
   "outputs": [
    {
     "name": "stdout",
     "output_type": "stream",
     "text": [
      "Is CUDA available: True\n",
      "GPU Name: NVIDIA GeForce RTX 3070 Laptop GPU\n",
      "Test Tensor Shape (on GPU): torch.Size([1000, 1000])\n"
     ]
    }
   ],
   "source": [
    "# # Check if CUDA is available\n",
    "# print(\"Is CUDA available:\", torch.cuda.is_available())\n",
    "\n",
    "# # Get the name of the first available GPU\n",
    "# if torch.cuda.is_available():\n",
    "#     print(\"GPU Name:\", torch.cuda.get_device_name(0))\n",
    "\n",
    "# # Optional: Test GPU Tensor calculations\n",
    "# x = torch.rand(1000, 1000).cuda()  # Move tensor to GPU\n",
    "# y = torch.matmul(x, x)  # Perform matrix multiplication\n",
    "# print(\"Test Tensor Shape (on GPU):\", y.shape)"
   ]
  },
  {
   "cell_type": "code",
   "execution_count": null,
   "metadata": {},
   "outputs": [],
   "source": [
    "dataset_path = \"../Data/GTZAN/features_30_sec.csv\"\n",
    "\n",
    "data = pd.read_csv(dataset_path)\n",
    "\n",
    "spectral_features = [\n",
    "    \"chroma_stft_mean\", \"chroma_stft_var\",\n",
    "    \"spectral_centroid_mean\", \"spectral_centroid_var\",\n",
    "    \"rolloff_mean\", \"rolloff_var\"\n",
    "]\n",
    "rhythmic_features = [\"tempo\"]\n",
    "mfcc_features = [\n",
    "    \"mfcc1_mean\", \"mfcc1_var\",\n",
    "    \"mfcc2_mean\", \"mfcc2_var\",\n",
    "    \"mfcc3_mean\", \"mfcc3_var\"\n",
    "]\n",
    "\n",
    "selected_features = spectral_features + rhythmic_features + mfcc_features\n",
    "\n",
    "X = data[selected_features]\n",
    "y = data[\"label\"]\n",
    "\n",
    "# print(\"Selected Features Shape:\", X_selected.shape)\n",
    "# print(\"Labels Shape:\", y.shape)\n",
    "\n",
    "# print(X_selected.head())"
   ]
  },
  {
   "cell_type": "code",
   "execution_count": null,
   "metadata": {},
   "outputs": [
    {
     "name": "stdout",
     "output_type": "stream",
     "text": [
      "Training Features Shape: (700, 13)\n",
      "Validation Features Shape: (150, 13)\n",
      "Testing Features Shape: (150, 13)\n",
      "Training Labels Shape: (700,)\n",
      "Validation Labels Shape: (150,)\n",
      "Testing Labels Shape: (150,)\n"
     ]
    }
   ],
   "source": [
    "X_train, X_temp, y_train, y_temp = train_test_split(X, y, test_size=0.3, stratify=y, random_state=42)\n",
    "X_val, X_test, y_val, y_test = train_test_split(X_temp, y_temp, test_size=0.5, stratify=y_temp, random_state=42)\n",
    "\n",
    "print(\"Training Features Shape:\", X_train.shape)\n",
    "print(\"Validation Features Shape:\", X_val.shape)\n",
    "print(\"Testing Features Shape:\", X_test.shape)\n",
    "print(\"Training Labels Shape:\", y_train.shape)\n",
    "print(\"Validation Labels Shape:\", y_val.shape)\n",
    "print(\"Testing Labels Shape:\", y_test.shape)"
   ]
  }
 ],
 "metadata": {
  "kernelspec": {
   "display_name": "base",
   "language": "python",
   "name": "python3"
  },
  "language_info": {
   "codemirror_mode": {
    "name": "ipython",
    "version": 3
   },
   "file_extension": ".py",
   "mimetype": "text/x-python",
   "name": "python",
   "nbconvert_exporter": "python",
   "pygments_lexer": "ipython3",
   "version": "3.9.13"
  }
 },
 "nbformat": 4,
 "nbformat_minor": 2
}
