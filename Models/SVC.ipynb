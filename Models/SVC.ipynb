{
 "cells": [
  {
   "cell_type": "code",
   "execution_count": null,
   "metadata": {},
   "outputs": [],
   "source": [
    "# %pip install numpy\n",
    "# %pip install matplotlib\n",
    "# %pip install torch"
   ]
  },
  {
   "cell_type": "code",
   "execution_count": 2,
   "metadata": {},
   "outputs": [],
   "source": [
    "import os\n",
    "import numpy as np\n",
    "import pandas as pd\n",
    "from sklearn.model_selection import train_test_split\n",
    "from sklearn.svm import SVC\n",
    "from sklearn.metrics import accuracy_score\n",
    "from sklearn.preprocessing import StandardScaler\n",
    "from sklearn.pipeline import make_pipeline\n",
    "import random"
   ]
  },
  {
   "cell_type": "code",
   "execution_count": 3,
   "metadata": {},
   "outputs": [
    {
     "name": "stdout",
     "output_type": "stream",
     "text": [
      "          tempo  mfcc1_mean    mfcc1_var  mfcc2_mean    mfcc2_var  mfcc3_mean  \\\n",
      "82   123.046875  -29.326496  1405.848877  108.646187   254.188568  -25.548882   \n",
      "991  143.554688  -74.275742   833.735596  100.125725   444.707764  -47.363968   \n",
      "789   99.384014  -47.715034  7978.628906   55.567909  1223.721436   19.238752   \n",
      "894  129.199219  -97.746880  2043.584351  108.831245   829.460754  -24.916161   \n",
      "398  123.046875  -91.576141  1841.363159   99.457474   424.883850   -8.977487   \n",
      "..          ...         ...          ...         ...          ...         ...   \n",
      "106   99.384014 -295.774567  4000.331055  134.538834   307.928497  -22.429554   \n",
      "270  112.347147  -99.300232  2682.421387  117.564529   569.738525  -29.862644   \n",
      "860  112.347147 -301.459442  5544.246094   77.230850  1140.099731  -13.612371   \n",
      "435  143.554688 -100.842010  3069.406494   64.214058  1030.421509   12.818649   \n",
      "102   99.384014 -235.253723   857.942932  141.109985   197.688080  -34.670734   \n",
      "\n",
      "      mfcc3_var  \n",
      "82   268.417419  \n",
      "991  293.710571  \n",
      "789  638.751343  \n",
      "894  339.031647  \n",
      "398  268.367615  \n",
      "..          ...  \n",
      "106  160.317749  \n",
      "270  242.275864  \n",
      "860  526.972290  \n",
      "435  745.619080  \n",
      "102  151.697372  \n",
      "\n",
      "[750 rows x 7 columns]\n"
     ]
    }
   ],
   "source": [
    "dataset_path = \"../../Data/features_30_sec.csv\"\n",
    "\n",
    "data = pd.read_csv(dataset_path)\n",
    "\n",
    "spectral_features = [\n",
    "    \"chroma_stft_mean\", \"chroma_stft_var\",\n",
    "    \"spectral_centroid_mean\", \"spectral_centroid_var\",\n",
    "    \"rolloff_mean\", \"rolloff_var\"\n",
    "]\n",
    "rhythmic_features = [\"tempo\"]\n",
    "mfcc_features = [\n",
    "    \"mfcc1_mean\", \"mfcc1_var\",\n",
    "    \"mfcc2_mean\", \"mfcc2_var\",\n",
    "    \"mfcc3_mean\", \"mfcc3_var\"\n",
    "]\n",
    "\n",
    "selected_features = spectral_features = rhythmic_features + mfcc_features\n",
    "\n",
    "X = data[selected_features]\n",
    "y = data[\"label\"]\n",
    "\n",
    "X_train, X_test, y_train, y_test = train_test_split(X, y, test_size = 0.25, random_state=42)\n",
    "print(X_train)"
   ]
  },
  {
   "cell_type": "code",
   "execution_count": 4,
   "metadata": {},
   "outputs": [
    {
     "name": "stdout",
     "output_type": "stream",
     "text": [
      "[[ 0.14352417  1.13800251 -0.86963696 ... -1.0421225  -0.78795286\n",
      "  -0.70835186]\n",
      " [ 0.87220839  0.69833667 -1.07468124 ... -0.62056613 -1.77973356\n",
      "  -0.62060565]\n",
      " [-0.69726531  0.95813715  1.48603457 ...  1.10313509  1.24823027\n",
      "   0.57639908]\n",
      " ...\n",
      " [-0.2366589  -1.52383436  0.61355652 ...  0.91810775 -0.24528252\n",
      "   0.18861867]\n",
      " [ 0.87220839  0.43848179 -0.27342116 ...  0.67542589  0.95635271\n",
      "   0.94714132]\n",
      " [-0.69726531 -0.8762508  -1.06600538 ... -1.16713951 -1.20266025\n",
      "  -1.11327342]]\n"
     ]
    }
   ],
   "source": [
    "# scale/standardize data for both training and testing data\n",
    "scaler = StandardScaler()\n",
    "X_train = scaler.fit_transform(X_train)\n",
    "X_test = scaler.fit_transform(X_test)\n",
    "\n",
    "# print the training data to confirm data standardization\n",
    "print(X_train)"
   ]
  },
  {
   "cell_type": "code",
   "execution_count": null,
   "metadata": {},
   "outputs": [
    {
     "name": "stdout",
     "output_type": "stream",
     "text": [
      "kernel: linear\n",
      "C: 0.1 accuracy: 0.416\n",
      "C: 1 accuracy: 0.440\n",
      "C: 5 accuracy: 0.432\n",
      "C: 10 accuracy: 0.432\n",
      "C: 50 accuracy: 0.432\n",
      "C: 100 accuracy: 0.432\n",
      "\n",
      "kernel: polynomial\n",
      "C: 0.1 accuracy: 0.400\n",
      "C: 1 accuracy: 0.412\n",
      "C: 5 accuracy: 0.424\n",
      "C: 10 accuracy: 0.436\n",
      "C: 50 accuracy: 0.428\n",
      "C: 100 accuracy: 0.436\n",
      "\n",
      "kernel: rbf\n",
      "C: 0.1 accuracy: 0.416\n",
      "C: 1 accuracy: 0.484\n",
      "C: 5 accuracy: 0.504\n",
      "C: 10 accuracy: 0.500\n",
      "C: 50 accuracy: 0.504\n",
      "C: 100 accuracy: 0.512\n",
      "\n",
      "kernel: sigmoid\n",
      "C: 0.1 accuracy: 0.348\n",
      "C: 1 accuracy: 0.332\n",
      "C: 5 accuracy: 0.284\n",
      "C: 10 accuracy: 0.256\n",
      "C: 50 accuracy: 0.228\n",
      "C: 100 accuracy: 0.212\n"
     ]
    }
   ],
   "source": [
    "# test different kernels, linear, polynomial, rbf, and sigmoid\n",
    "\n",
    "svm_kernels = [\"linear\", \"poly\", \"rbf\", \"sigmoid\"]\n",
    "\n",
    "svm_c_values = [0.1, 1, 5, 10, 50, 100]\n",
    "\n",
    "# test different svm kernels\n",
    "print(\"kernel: linear\")\n",
    "for C in svm_c_values:\n",
    "    model = SVC(C=C, kernel=\"linear\")\n",
    "    model.fit(X_train, y_train)\n",
    "    y_predict = model.predict(X_test)\n",
    "    accuracy = accuracy_score(y_test, y_predict)\n",
    "    print(f\"C: {C} accuracy: {accuracy:.3f}\")\n",
    "\n",
    "print(\"\\nkernel: polynomial\")\n",
    "for C in svm_c_values:\n",
    "    model = SVC(C=C, kernel=\"poly\")\n",
    "    model.fit(X_train, y_train)\n",
    "    y_predict = model.predict(X_test)\n",
    "    accuracy = accuracy_score(y_test, y_predict)\n",
    "    print(f\"C: {C} accuracy: {accuracy:.3f}\")\n",
    "\n",
    "print(\"\\nkernel: rbf\")\n",
    "for C in svm_c_values:\n",
    "    model = SVC(C=C, kernel=\"rbf\")\n",
    "    model.fit(X_train, y_train)\n",
    "    y_predict = model.predict(X_test)\n",
    "    accuracy = accuracy_score(y_test, y_predict)\n",
    "    print(f\"C: {C} accuracy: {accuracy:.3f}\")\n",
    "\n",
    "print(\"\\nkernel: sigmoid\")\n",
    "for C in svm_c_values:\n",
    "    model = SVC(C=C, kernel=\"sigmoid\")\n",
    "    model.fit(X_train, y_train)\n",
    "    y_predict = model.predict(X_test)\n",
    "    accuracy = accuracy_score(y_test, y_predict)\n",
    "    print(f\"C: {C} accuracy: {accuracy:.3f}\")"
   ]
  },
  {
   "cell_type": "code",
   "execution_count": 17,
   "metadata": {},
   "outputs": [
    {
     "name": "stdout",
     "output_type": "stream",
     "text": [
      "\n",
      "polynomial with different degrees\n",
      "C: 0.1 degree: 1 accuracy: 0.400\n",
      "C: 0.1 degree: 3 accuracy: 0.284\n",
      "C: 0.1 degree: 5 accuracy: 0.208\n",
      "C: 0.1 degree: 10 accuracy: 0.148\n",
      "\n",
      "\n",
      "C: 1 degree: 1 accuracy: 0.412\n",
      "C: 1 degree: 3 accuracy: 0.372\n",
      "C: 1 degree: 5 accuracy: 0.296\n",
      "C: 1 degree: 10 accuracy: 0.252\n",
      "\n",
      "\n",
      "C: 5 degree: 1 accuracy: 0.424\n",
      "C: 5 degree: 3 accuracy: 0.436\n",
      "C: 5 degree: 5 accuracy: 0.364\n",
      "C: 5 degree: 10 accuracy: 0.244\n",
      "\n",
      "\n",
      "C: 10 degree: 1 accuracy: 0.436\n",
      "C: 10 degree: 3 accuracy: 0.440\n",
      "C: 10 degree: 5 accuracy: 0.392\n",
      "C: 10 degree: 10 accuracy: 0.232\n",
      "\n",
      "\n",
      "C: 50 degree: 1 accuracy: 0.428\n",
      "C: 50 degree: 3 accuracy: 0.436\n",
      "C: 50 degree: 5 accuracy: 0.428\n",
      "C: 50 degree: 10 accuracy: 0.272\n",
      "\n",
      "\n",
      "C: 100 degree: 1 accuracy: 0.436\n",
      "C: 100 degree: 3 accuracy: 0.472\n",
      "C: 100 degree: 5 accuracy: 0.416\n",
      "C: 100 degree: 10 accuracy: 0.296\n",
      "\n",
      "\n"
     ]
    }
   ],
   "source": [
    "print(\"\\npolynomial with different degrees\")\n",
    "degrees = [1, 3, 5, 10]\n",
    "for C in svm_c_values:\n",
    "    for degree in degrees:\n",
    "        model = SVC(C=C, kernel=\"poly\", degree=degree)\n",
    "        model.fit(X_train, y_train)\n",
    "        y_predict = model.predict(X_test)\n",
    "        accuracy = accuracy_score(y_test, y_predict)\n",
    "        print(f\"C: {C} degree: {degree} accuracy: {accuracy:.3f}\")\n",
    "    print(\"\\n\")"
   ]
  },
  {
   "cell_type": "code",
   "execution_count": null,
   "metadata": {},
   "outputs": [],
   "source": []
  }
 ],
 "metadata": {
  "kernelspec": {
   "display_name": "base",
   "language": "python",
   "name": "python3"
  },
  "language_info": {
   "codemirror_mode": {
    "name": "ipython",
    "version": 3
   },
   "file_extension": ".py",
   "mimetype": "text/x-python",
   "name": "python",
   "nbconvert_exporter": "python",
   "pygments_lexer": "ipython3",
   "version": "3.9.13"
  }
 },
 "nbformat": 4,
 "nbformat_minor": 2
}
