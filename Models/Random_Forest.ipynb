{
 "cells": [
  {
   "cell_type": "code",
   "execution_count": 4,
   "metadata": {},
   "outputs": [],
   "source": [
    "import os\n",
    "import numpy as np\n",
    "import pandas as pd\n",
    "import librosa\n",
    "import librosa.display\n",
    "import torch\n",
    "from sklearn.model_selection import train_test_split"
   ]
  },
  {
   "cell_type": "code",
   "execution_count": 5,
   "metadata": {},
   "outputs": [],
   "source": [
    "dataset_path = \"../Data/features_30_sec.csv\"\n",
    "\n",
    "data = pd.read_csv(dataset_path)\n",
    "\n",
    "spectral_features = [\n",
    "    \"chroma_stft_mean\", \"chroma_stft_var\",\n",
    "    \"spectral_centroid_mean\", \"spectral_centroid_var\",\n",
    "    \"rolloff_mean\", \"rolloff_var\"\n",
    "]\n",
    "rhythmic_features = [\"tempo\"]\n",
    "mfcc_features = [\n",
    "    \"mfcc1_mean\", \"mfcc1_var\",\n",
    "    \"mfcc2_mean\", \"mfcc2_var\",\n",
    "    \"mfcc3_mean\", \"mfcc3_var\"\n",
    "]\n",
    "\n",
    "selected_features = spectral_features + rhythmic_features + mfcc_features\n",
    "\n",
    "X = data[selected_features]\n",
    "y = data[\"label\"]\n",
    "\n",
    "# print(\"Selected Features Shape:\", X_selected.shape)\n",
    "# print(\"Labels Shape:\", y.shape)\n",
    "\n",
    "# print(X_selected.head())"
   ]
  },
  {
   "cell_type": "code",
   "execution_count": 3,
   "metadata": {},
   "outputs": [
    {
     "name": "stdout",
     "output_type": "stream",
     "text": [
      "Training Features Shape: (700, 13)\n",
      "Validation Features Shape: (150, 13)\n",
      "Testing Features Shape: (150, 13)\n",
      "Training Labels Shape: (700,)\n",
      "Validation Labels Shape: (150,)\n",
      "Testing Labels Shape: (150,)\n"
     ]
    }
   ],
   "source": [
    "X_train, X_temp, y_train, y_temp = train_test_split(X, y, test_size=0.3, stratify=y, random_state=42)\n",
    "X_val, X_test, y_val, y_test = train_test_split(X_temp, y_temp, test_size=0.5, stratify=y_temp, random_state=42)\n",
    "\n",
    "print(\"Training Features Shape:\", X_train.shape)\n",
    "print(\"Validation Features Shape:\", X_val.shape)\n",
    "print(\"Testing Features Shape:\", X_test.shape)\n",
    "print(\"Training Labels Shape:\", y_train.shape)\n",
    "print(\"Validation Labels Shape:\", y_val.shape)\n",
    "print(\"Testing Labels Shape:\", y_test.shape)"
   ]
  }
 ],
 "metadata": {
  "kernelspec": {
   "display_name": "Python 3",
   "language": "python",
   "name": "python3"
  },
  "language_info": {
   "codemirror_mode": {
    "name": "ipython",
    "version": 3
   },
   "file_extension": ".py",
   "mimetype": "text/x-python",
   "name": "python",
   "nbconvert_exporter": "python",
   "pygments_lexer": "ipython3",
   "version": "3.11.9"
  }
 },
 "nbformat": 4,
 "nbformat_minor": 2
}
